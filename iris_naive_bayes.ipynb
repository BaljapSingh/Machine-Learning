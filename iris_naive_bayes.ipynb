{
 "cells": [
  {
   "cell_type": "code",
   "execution_count": 1,
   "metadata": {},
   "outputs": [],
   "source": [
    "import pandas as pd\n",
    "import numpy as np\n"
   ]
  },
  {
   "cell_type": "code",
   "execution_count": 2,
   "metadata": {},
   "outputs": [],
   "source": [
    "from sklearn.datasets import load_iris\n",
    "df = load_iris()\n",
    "X=df.data\n",
    "y=df.target\n"
   ]
  },
  {
   "cell_type": "code",
   "execution_count": 3,
   "metadata": {},
   "outputs": [
    {
     "data": {
      "text/plain": [
       "array([[5.1, 3.5, 1.4, 0.2],\n",
       "       [4.9, 3. , 1.4, 0.2],\n",
       "       [4.7, 3.2, 1.3, 0.2],\n",
       "       [4.6, 3.1, 1.5, 0.2],\n",
       "       [5. , 3.6, 1.4, 0.2],\n",
       "       [5.4, 3.9, 1.7, 0.4],\n",
       "       [4.6, 3.4, 1.4, 0.3],\n",
       "       [5. , 3.4, 1.5, 0.2],\n",
       "       [4.4, 2.9, 1.4, 0.2],\n",
       "       [4.9, 3.1, 1.5, 0.1],\n",
       "       [5.4, 3.7, 1.5, 0.2],\n",
       "       [4.8, 3.4, 1.6, 0.2],\n",
       "       [4.8, 3. , 1.4, 0.1],\n",
       "       [4.3, 3. , 1.1, 0.1],\n",
       "       [5.8, 4. , 1.2, 0.2],\n",
       "       [5.7, 4.4, 1.5, 0.4],\n",
       "       [5.4, 3.9, 1.3, 0.4],\n",
       "       [5.1, 3.5, 1.4, 0.3],\n",
       "       [5.7, 3.8, 1.7, 0.3],\n",
       "       [5.1, 3.8, 1.5, 0.3],\n",
       "       [5.4, 3.4, 1.7, 0.2],\n",
       "       [5.1, 3.7, 1.5, 0.4],\n",
       "       [4.6, 3.6, 1. , 0.2],\n",
       "       [5.1, 3.3, 1.7, 0.5],\n",
       "       [4.8, 3.4, 1.9, 0.2],\n",
       "       [5. , 3. , 1.6, 0.2],\n",
       "       [5. , 3.4, 1.6, 0.4],\n",
       "       [5.2, 3.5, 1.5, 0.2],\n",
       "       [5.2, 3.4, 1.4, 0.2],\n",
       "       [4.7, 3.2, 1.6, 0.2],\n",
       "       [4.8, 3.1, 1.6, 0.2],\n",
       "       [5.4, 3.4, 1.5, 0.4],\n",
       "       [5.2, 4.1, 1.5, 0.1],\n",
       "       [5.5, 4.2, 1.4, 0.2],\n",
       "       [4.9, 3.1, 1.5, 0.2],\n",
       "       [5. , 3.2, 1.2, 0.2],\n",
       "       [5.5, 3.5, 1.3, 0.2],\n",
       "       [4.9, 3.6, 1.4, 0.1],\n",
       "       [4.4, 3. , 1.3, 0.2],\n",
       "       [5.1, 3.4, 1.5, 0.2],\n",
       "       [5. , 3.5, 1.3, 0.3],\n",
       "       [4.5, 2.3, 1.3, 0.3],\n",
       "       [4.4, 3.2, 1.3, 0.2],\n",
       "       [5. , 3.5, 1.6, 0.6],\n",
       "       [5.1, 3.8, 1.9, 0.4],\n",
       "       [4.8, 3. , 1.4, 0.3],\n",
       "       [5.1, 3.8, 1.6, 0.2],\n",
       "       [4.6, 3.2, 1.4, 0.2],\n",
       "       [5.3, 3.7, 1.5, 0.2],\n",
       "       [5. , 3.3, 1.4, 0.2],\n",
       "       [7. , 3.2, 4.7, 1.4],\n",
       "       [6.4, 3.2, 4.5, 1.5],\n",
       "       [6.9, 3.1, 4.9, 1.5],\n",
       "       [5.5, 2.3, 4. , 1.3],\n",
       "       [6.5, 2.8, 4.6, 1.5],\n",
       "       [5.7, 2.8, 4.5, 1.3],\n",
       "       [6.3, 3.3, 4.7, 1.6],\n",
       "       [4.9, 2.4, 3.3, 1. ],\n",
       "       [6.6, 2.9, 4.6, 1.3],\n",
       "       [5.2, 2.7, 3.9, 1.4],\n",
       "       [5. , 2. , 3.5, 1. ],\n",
       "       [5.9, 3. , 4.2, 1.5],\n",
       "       [6. , 2.2, 4. , 1. ],\n",
       "       [6.1, 2.9, 4.7, 1.4],\n",
       "       [5.6, 2.9, 3.6, 1.3],\n",
       "       [6.7, 3.1, 4.4, 1.4],\n",
       "       [5.6, 3. , 4.5, 1.5],\n",
       "       [5.8, 2.7, 4.1, 1. ],\n",
       "       [6.2, 2.2, 4.5, 1.5],\n",
       "       [5.6, 2.5, 3.9, 1.1],\n",
       "       [5.9, 3.2, 4.8, 1.8],\n",
       "       [6.1, 2.8, 4. , 1.3],\n",
       "       [6.3, 2.5, 4.9, 1.5],\n",
       "       [6.1, 2.8, 4.7, 1.2],\n",
       "       [6.4, 2.9, 4.3, 1.3],\n",
       "       [6.6, 3. , 4.4, 1.4],\n",
       "       [6.8, 2.8, 4.8, 1.4],\n",
       "       [6.7, 3. , 5. , 1.7],\n",
       "       [6. , 2.9, 4.5, 1.5],\n",
       "       [5.7, 2.6, 3.5, 1. ],\n",
       "       [5.5, 2.4, 3.8, 1.1],\n",
       "       [5.5, 2.4, 3.7, 1. ],\n",
       "       [5.8, 2.7, 3.9, 1.2],\n",
       "       [6. , 2.7, 5.1, 1.6],\n",
       "       [5.4, 3. , 4.5, 1.5],\n",
       "       [6. , 3.4, 4.5, 1.6],\n",
       "       [6.7, 3.1, 4.7, 1.5],\n",
       "       [6.3, 2.3, 4.4, 1.3],\n",
       "       [5.6, 3. , 4.1, 1.3],\n",
       "       [5.5, 2.5, 4. , 1.3],\n",
       "       [5.5, 2.6, 4.4, 1.2],\n",
       "       [6.1, 3. , 4.6, 1.4],\n",
       "       [5.8, 2.6, 4. , 1.2],\n",
       "       [5. , 2.3, 3.3, 1. ],\n",
       "       [5.6, 2.7, 4.2, 1.3],\n",
       "       [5.7, 3. , 4.2, 1.2],\n",
       "       [5.7, 2.9, 4.2, 1.3],\n",
       "       [6.2, 2.9, 4.3, 1.3],\n",
       "       [5.1, 2.5, 3. , 1.1],\n",
       "       [5.7, 2.8, 4.1, 1.3],\n",
       "       [6.3, 3.3, 6. , 2.5],\n",
       "       [5.8, 2.7, 5.1, 1.9],\n",
       "       [7.1, 3. , 5.9, 2.1],\n",
       "       [6.3, 2.9, 5.6, 1.8],\n",
       "       [6.5, 3. , 5.8, 2.2],\n",
       "       [7.6, 3. , 6.6, 2.1],\n",
       "       [4.9, 2.5, 4.5, 1.7],\n",
       "       [7.3, 2.9, 6.3, 1.8],\n",
       "       [6.7, 2.5, 5.8, 1.8],\n",
       "       [7.2, 3.6, 6.1, 2.5],\n",
       "       [6.5, 3.2, 5.1, 2. ],\n",
       "       [6.4, 2.7, 5.3, 1.9],\n",
       "       [6.8, 3. , 5.5, 2.1],\n",
       "       [5.7, 2.5, 5. , 2. ],\n",
       "       [5.8, 2.8, 5.1, 2.4],\n",
       "       [6.4, 3.2, 5.3, 2.3],\n",
       "       [6.5, 3. , 5.5, 1.8],\n",
       "       [7.7, 3.8, 6.7, 2.2],\n",
       "       [7.7, 2.6, 6.9, 2.3],\n",
       "       [6. , 2.2, 5. , 1.5],\n",
       "       [6.9, 3.2, 5.7, 2.3],\n",
       "       [5.6, 2.8, 4.9, 2. ],\n",
       "       [7.7, 2.8, 6.7, 2. ],\n",
       "       [6.3, 2.7, 4.9, 1.8],\n",
       "       [6.7, 3.3, 5.7, 2.1],\n",
       "       [7.2, 3.2, 6. , 1.8],\n",
       "       [6.2, 2.8, 4.8, 1.8],\n",
       "       [6.1, 3. , 4.9, 1.8],\n",
       "       [6.4, 2.8, 5.6, 2.1],\n",
       "       [7.2, 3. , 5.8, 1.6],\n",
       "       [7.4, 2.8, 6.1, 1.9],\n",
       "       [7.9, 3.8, 6.4, 2. ],\n",
       "       [6.4, 2.8, 5.6, 2.2],\n",
       "       [6.3, 2.8, 5.1, 1.5],\n",
       "       [6.1, 2.6, 5.6, 1.4],\n",
       "       [7.7, 3. , 6.1, 2.3],\n",
       "       [6.3, 3.4, 5.6, 2.4],\n",
       "       [6.4, 3.1, 5.5, 1.8],\n",
       "       [6. , 3. , 4.8, 1.8],\n",
       "       [6.9, 3.1, 5.4, 2.1],\n",
       "       [6.7, 3.1, 5.6, 2.4],\n",
       "       [6.9, 3.1, 5.1, 2.3],\n",
       "       [5.8, 2.7, 5.1, 1.9],\n",
       "       [6.8, 3.2, 5.9, 2.3],\n",
       "       [6.7, 3.3, 5.7, 2.5],\n",
       "       [6.7, 3. , 5.2, 2.3],\n",
       "       [6.3, 2.5, 5. , 1.9],\n",
       "       [6.5, 3. , 5.2, 2. ],\n",
       "       [6.2, 3.4, 5.4, 2.3],\n",
       "       [5.9, 3. , 5.1, 1.8]])"
      ]
     },
     "execution_count": 3,
     "metadata": {},
     "output_type": "execute_result"
    }
   ],
   "source": [
    "X"
   ]
  },
  {
   "cell_type": "code",
   "execution_count": 4,
   "metadata": {},
   "outputs": [
    {
     "data": {
      "text/plain": [
       "array([0, 0, 0, 0, 0, 0, 0, 0, 0, 0, 0, 0, 0, 0, 0, 0, 0, 0, 0, 0, 0, 0,\n",
       "       0, 0, 0, 0, 0, 0, 0, 0, 0, 0, 0, 0, 0, 0, 0, 0, 0, 0, 0, 0, 0, 0,\n",
       "       0, 0, 0, 0, 0, 0, 1, 1, 1, 1, 1, 1, 1, 1, 1, 1, 1, 1, 1, 1, 1, 1,\n",
       "       1, 1, 1, 1, 1, 1, 1, 1, 1, 1, 1, 1, 1, 1, 1, 1, 1, 1, 1, 1, 1, 1,\n",
       "       1, 1, 1, 1, 1, 1, 1, 1, 1, 1, 1, 1, 2, 2, 2, 2, 2, 2, 2, 2, 2, 2,\n",
       "       2, 2, 2, 2, 2, 2, 2, 2, 2, 2, 2, 2, 2, 2, 2, 2, 2, 2, 2, 2, 2, 2,\n",
       "       2, 2, 2, 2, 2, 2, 2, 2, 2, 2, 2, 2, 2, 2, 2, 2, 2, 2])"
      ]
     },
     "execution_count": 4,
     "metadata": {},
     "output_type": "execute_result"
    }
   ],
   "source": [
    "y"
   ]
  },
  {
   "cell_type": "code",
   "execution_count": 5,
   "metadata": {},
   "outputs": [],
   "source": [
    "from sklearn.model_selection import train_test_split\n",
    "X_train , X_test , y_train , y_test = train_test_split(X,y, test_size= 0.2 , random_state=0)"
   ]
  },
  {
   "cell_type": "code",
   "execution_count": 6,
   "metadata": {},
   "outputs": [],
   "source": [
    "from sklearn.preprocessing import StandardScaler\n",
    "sc = StandardScaler()\n",
    "X_train = sc.fit_transform(X_train)\n",
    "X_test = sc.transform(X_test)"
   ]
  },
  {
   "cell_type": "code",
   "execution_count": 7,
   "metadata": {},
   "outputs": [
    {
     "data": {
      "text/plain": [
       "array([[ 0.61303014,  0.10850105,  0.94751783,  0.736072  ],\n",
       "       [-0.56776627, -0.12400121,  0.38491447,  0.34752959],\n",
       "       [-0.80392556,  1.03851009, -1.30289562, -1.33615415],\n",
       "       [ 0.25879121, -0.12400121,  0.60995581,  0.736072  ],\n",
       "       [ 0.61303014, -0.58900572,  1.00377816,  1.25412853],\n",
       "       [-0.80392556, -0.82150798,  0.04735245,  0.21801546],\n",
       "       [-0.21352735,  1.73601687, -1.19037495, -1.20664002],\n",
       "       [ 0.14071157, -0.82150798,  0.72247648,  0.47704373],\n",
       "       [ 0.02263193, -0.12400121,  0.21613346,  0.34752959],\n",
       "       [-0.09544771, -1.05401024,  0.10361279, -0.04101281],\n",
       "       [ 1.0853487 , -0.12400121,  0.94751783,  1.1246144 ],\n",
       "       [-1.39432376,  0.34100331, -1.41541629, -1.33615415],\n",
       "       [ 1.20342834,  0.10850105,  0.72247648,  1.38364267],\n",
       "       [-1.04008484,  1.03851009, -1.24663528, -0.81809761],\n",
       "       [-0.56776627,  1.50351461, -1.30289562, -1.33615415],\n",
       "       [-1.04008484, -2.4490238 , -0.1776889 , -0.30004108],\n",
       "       [ 0.73110978, -0.12400121,  0.94751783,  0.736072  ],\n",
       "       [ 0.96726906,  0.57350557,  1.0600385 ,  1.64267094],\n",
       "       [ 0.14071157, -1.98401928,  0.66621615,  0.34752959],\n",
       "       [ 0.96726906, -1.2865125 ,  1.11629884,  0.736072  ],\n",
       "       [-0.33160699, -1.2865125 ,  0.04735245, -0.17052694],\n",
       "       [ 2.14806547, -0.12400121,  1.28507985,  1.38364267],\n",
       "       [ 0.49495049,  0.57350557,  0.49743514,  0.47704373],\n",
       "       [-0.44968663, -1.51901476, -0.00890789, -0.17052694],\n",
       "       [ 0.49495049, -0.82150798,  0.60995581,  0.736072  ],\n",
       "       [ 0.49495049, -0.58900572,  0.72247648,  0.34752959],\n",
       "       [-1.15816448, -1.2865125 ,  0.38491447,  0.60655786],\n",
       "       [ 0.49495049, -1.2865125 ,  0.66621615,  0.86558613],\n",
       "       [ 1.32150798,  0.34100331,  0.49743514,  0.21801546],\n",
       "       [ 0.73110978, -0.12400121,  0.77873682,  0.99510027],\n",
       "       [ 0.14071157,  0.80600783,  0.38491447,  0.47704373],\n",
       "       [-1.27624412,  0.10850105, -1.24663528, -1.33615415],\n",
       "       [-0.09544771, -0.82150798,  0.72247648,  0.86558613],\n",
       "       [-0.33160699, -0.82150798,  0.21613346,  0.08850133],\n",
       "       [-0.33160699, -0.35650346, -0.12142856,  0.08850133],\n",
       "       [-0.44968663, -1.2865125 ,  0.10361279,  0.08850133],\n",
       "       [ 0.25879121, -0.12400121,  0.4411748 ,  0.21801546],\n",
       "       [ 1.55766726,  0.34100331,  1.22881951,  0.736072  ],\n",
       "       [-0.68584591,  1.50351461, -1.30289562, -1.33615415],\n",
       "       [-1.86664232, -0.12400121, -1.52793696, -1.46566829],\n",
       "       [ 0.61303014, -0.82150798,  0.83499716,  0.86558613],\n",
       "       [-0.21352735, -0.12400121,  0.21613346, -0.04101281],\n",
       "       [-0.56776627,  0.80600783, -1.19037495, -1.33615415],\n",
       "       [-0.21352735,  3.13103043, -1.30289562, -1.07712588],\n",
       "       [ 1.20342834,  0.10850105,  0.60995581,  0.34752959],\n",
       "       [-1.5124034 ,  0.10850105, -1.30289562, -1.33615415],\n",
       "       [ 0.02263193, -0.12400121,  0.72247648,  0.736072  ],\n",
       "       [-0.9220052 , -1.2865125 , -0.45899058, -0.17052694],\n",
       "       [-1.5124034 ,  0.80600783, -1.35915595, -1.20664002],\n",
       "       [ 0.37687085, -1.98401928,  0.38491447,  0.34752959],\n",
       "       [ 1.55766726,  1.27101235,  1.28507985,  1.64267094],\n",
       "       [-0.21352735, -0.35650346,  0.21613346,  0.08850133],\n",
       "       [-1.27624412, -0.12400121, -1.35915595, -1.46566829],\n",
       "       [ 1.43958762, -0.12400121,  1.17255917,  1.1246144 ],\n",
       "       [ 1.20342834,  0.34100331,  1.0600385 ,  1.38364267],\n",
       "       [ 0.73110978, -0.12400121,  1.11629884,  1.25412853],\n",
       "       [ 0.61303014, -0.58900572,  1.00377816,  1.1246144 ],\n",
       "       [-0.9220052 ,  1.73601687, -1.24663528, -1.33615415],\n",
       "       [-1.27624412,  0.80600783, -1.24663528, -1.33615415],\n",
       "       [ 0.73110978,  0.34100331,  0.72247648,  0.99510027],\n",
       "       [ 0.96726906,  0.57350557,  1.0600385 ,  1.1246144 ],\n",
       "       [-1.63048304, -1.75151702, -1.41541629, -1.20664002],\n",
       "       [ 0.37687085,  0.80600783,  0.89125749,  1.38364267],\n",
       "       [-1.15816448, -0.12400121, -1.35915595, -1.33615415],\n",
       "       [-0.21352735, -1.2865125 ,  0.66621615,  0.99510027],\n",
       "       [ 1.20342834,  0.10850105,  0.89125749,  1.1246144 ],\n",
       "       [-1.74856268,  0.34100331, -1.41541629, -1.33615415],\n",
       "       [-1.04008484,  1.27101235, -1.35915595, -1.33615415],\n",
       "       [ 1.55766726, -0.12400121,  1.11629884,  0.47704373],\n",
       "       [-0.9220052 ,  1.03851009, -1.35915595, -1.20664002],\n",
       "       [-1.74856268, -0.12400121, -1.41541629, -1.33615415],\n",
       "       [-0.56776627,  1.96851913, -1.19037495, -1.07712588],\n",
       "       [-0.44968663, -1.75151702,  0.10361279,  0.08850133],\n",
       "       [ 1.0853487 ,  0.34100331,  1.17255917,  1.38364267],\n",
       "       [ 2.02998583, -0.12400121,  1.56638153,  1.1246144 ],\n",
       "       [-0.9220052 ,  1.03851009, -1.35915595, -1.33615415],\n",
       "       [-1.15816448,  0.10850105, -1.30289562, -1.33615415],\n",
       "       [-0.80392556,  0.80600783, -1.35915595, -1.33615415],\n",
       "       [-0.21352735, -0.58900572,  0.38491447,  0.08850133],\n",
       "       [ 0.84918942, -0.12400121,  0.32865413,  0.21801546],\n",
       "       [-1.04008484,  0.34100331, -1.47167663, -1.33615415],\n",
       "       [-0.9220052 ,  0.57350557, -1.19037495, -0.94761175],\n",
       "       [ 0.61303014, -0.35650346,  0.27239379,  0.08850133],\n",
       "       [-0.56776627,  0.80600783, -1.30289562, -1.07712588],\n",
       "       [ 2.14806547, -1.05401024,  1.73516253,  1.38364267],\n",
       "       [-1.15816448, -1.51901476, -0.29020957, -0.30004108],\n",
       "       [ 2.38422475,  1.73601687,  1.45386085,  0.99510027],\n",
       "       [ 0.96726906,  0.10850105,  0.32865413,  0.21801546],\n",
       "       [-0.80392556,  2.43352365, -1.30289562, -1.46566829],\n",
       "       [ 0.14071157, -0.12400121,  0.55369548,  0.736072  ],\n",
       "       [-0.09544771,  2.20102139, -1.47167663, -1.33615415],\n",
       "       [ 2.14806547, -0.58900572,  1.62264186,  0.99510027],\n",
       "       [-0.9220052 ,  1.73601687, -1.30289562, -1.20664002],\n",
       "       [-1.39432376,  0.34100331, -1.24663528, -1.33615415],\n",
       "       [ 1.79382654, -0.58900572,  1.28507985,  0.86558613],\n",
       "       [-1.04008484,  0.57350557, -1.35915595, -1.33615415],\n",
       "       [ 0.49495049,  0.80600783,  1.00377816,  1.5131568 ],\n",
       "       [-0.21352735, -0.58900572,  0.15987312,  0.08850133],\n",
       "       [-0.09544771, -0.82150798,  0.04735245, -0.04101281],\n",
       "       [-0.21352735, -1.05401024, -0.1776889 , -0.30004108],\n",
       "       [ 0.61303014,  0.34100331,  0.83499716,  1.38364267],\n",
       "       [ 0.96726906, -0.12400121,  0.77873682,  1.38364267],\n",
       "       [ 0.49495049, -1.2865125 ,  0.60995581,  0.34752959],\n",
       "       [ 0.96726906, -0.12400121,  0.66621615,  0.60655786],\n",
       "       [-1.04008484, -0.12400121, -1.24663528, -1.33615415],\n",
       "       [-0.44968663, -1.51901476, -0.06516822, -0.30004108],\n",
       "       [ 0.96726906,  0.10850105,  1.00377816,  1.5131568 ],\n",
       "       [-0.09544771, -0.82150798,  0.72247648,  0.86558613],\n",
       "       [-0.9220052 ,  0.80600783, -1.30289562, -1.33615415],\n",
       "       [ 0.84918942, -0.35650346,  0.4411748 ,  0.08850133],\n",
       "       [-0.33160699, -0.12400121,  0.15987312,  0.08850133],\n",
       "       [ 0.02263193,  0.34100331,  0.55369548,  0.736072  ],\n",
       "       [ 0.49495049, -1.75151702,  0.32865413,  0.08850133],\n",
       "       [-0.44968663,  1.03851009, -1.41541629, -1.33615415],\n",
       "       [-0.9220052 ,  1.50351461, -1.30289562, -1.07712588],\n",
       "       [-1.15816448,  0.10850105, -1.30289562, -1.46566829],\n",
       "       [ 0.49495049, -0.35650346,  1.00377816,  0.736072  ],\n",
       "       [-0.09544771, -0.82150798,  0.15987312, -0.30004108],\n",
       "       [ 2.14806547,  1.73601687,  1.62264186,  1.25412853],\n",
       "       [-1.5124034 ,  0.34100331, -1.35915595, -1.33615415]])"
      ]
     },
     "execution_count": 7,
     "metadata": {},
     "output_type": "execute_result"
    }
   ],
   "source": [
    "X_train"
   ]
  },
  {
   "cell_type": "code",
   "execution_count": 8,
   "metadata": {},
   "outputs": [
    {
     "data": {
      "text/plain": [
       "array([[-0.09544771, -0.58900572,  0.72247648,  1.5131568 ],\n",
       "       [ 0.14071157, -1.98401928,  0.10361279, -0.30004108],\n",
       "       [-0.44968663,  2.66602591, -1.35915595, -1.33615415],\n",
       "       [ 1.6757469 , -0.35650346,  1.39760052,  0.736072  ],\n",
       "       [-1.04008484,  0.80600783, -1.30289562, -1.33615415],\n",
       "       [ 0.49495049,  0.57350557,  1.22881951,  1.64267094],\n",
       "       [-1.04008484,  1.03851009, -1.41541629, -1.20664002],\n",
       "       [ 0.96726906,  0.10850105,  0.49743514,  0.34752959],\n",
       "       [ 1.0853487 , -0.58900572,  0.55369548,  0.21801546],\n",
       "       [ 0.25879121, -0.58900572,  0.10361279,  0.08850133],\n",
       "       [ 0.25879121, -1.05401024,  1.00377816,  0.21801546],\n",
       "       [ 0.61303014,  0.34100331,  0.38491447,  0.34752959],\n",
       "       [ 0.25879121, -0.58900572,  0.49743514, -0.04101281],\n",
       "       [ 0.73110978, -0.58900572,  0.4411748 ,  0.34752959],\n",
       "       [ 0.25879121, -0.35650346,  0.49743514,  0.21801546],\n",
       "       [-1.15816448,  1.27101235, -1.35915595, -1.46566829],\n",
       "       [ 0.14071157, -0.35650346,  0.38491447,  0.34752959],\n",
       "       [-0.44968663, -1.05401024,  0.32865413, -0.04101281],\n",
       "       [-1.27624412, -0.12400121, -1.35915595, -1.20664002],\n",
       "       [-0.56776627,  1.96851913, -1.41541629, -1.07712588],\n",
       "       [-0.33160699, -0.58900572,  0.60995581,  0.99510027],\n",
       "       [-0.33160699, -0.12400121,  0.38491447,  0.34752959],\n",
       "       [-1.27624412,  0.80600783, -1.07785427, -1.33615415],\n",
       "       [-1.74856268, -0.35650346, -1.35915595, -1.33615415],\n",
       "       [ 0.37687085, -0.58900572,  0.55369548,  0.736072  ],\n",
       "       [-1.5124034 ,  1.27101235, -1.5841973 , -1.33615415],\n",
       "       [-0.9220052 ,  1.73601687, -1.07785427, -1.07712588],\n",
       "       [ 0.37687085, -0.35650346,  0.27239379,  0.08850133],\n",
       "       [-1.04008484, -1.75151702, -0.29020957, -0.30004108],\n",
       "       [-1.04008484,  0.80600783, -1.24663528, -1.07712588]])"
      ]
     },
     "execution_count": 8,
     "metadata": {},
     "output_type": "execute_result"
    }
   ],
   "source": [
    "X_test"
   ]
  },
  {
   "cell_type": "code",
   "execution_count": 9,
   "metadata": {},
   "outputs": [],
   "source": [
    "from sklearn.preprocessing import LabelEncoder\n",
    "en = LabelEncoder()\n",
    "y_train = en.fit_transform(y_train)\n",
    "y_test = en.transform(y_test)"
   ]
  },
  {
   "cell_type": "code",
   "execution_count": 10,
   "metadata": {},
   "outputs": [
    {
     "data": {
      "text/plain": [
       "array([2, 1, 0, 2, 2, 1, 0, 1, 1, 1, 2, 0, 2, 0, 0, 1, 2, 2, 2, 2, 1, 2,\n",
       "       1, 1, 2, 2, 2, 2, 1, 2, 1, 0, 2, 1, 1, 1, 1, 2, 0, 0, 2, 1, 0, 0,\n",
       "       1, 0, 2, 1, 0, 1, 2, 1, 0, 2, 2, 2, 2, 0, 0, 2, 2, 0, 2, 0, 2, 2,\n",
       "       0, 0, 2, 0, 0, 0, 1, 2, 2, 0, 0, 0, 1, 1, 0, 0, 1, 0, 2, 1, 2, 1,\n",
       "       0, 2, 0, 2, 0, 0, 2, 0, 2, 1, 1, 1, 2, 2, 1, 1, 0, 1, 2, 2, 0, 1,\n",
       "       1, 1, 1, 0, 0, 0, 2, 1, 2, 0], dtype=int64)"
      ]
     },
     "execution_count": 10,
     "metadata": {},
     "output_type": "execute_result"
    }
   ],
   "source": [
    "y_train"
   ]
  },
  {
   "cell_type": "code",
   "execution_count": 11,
   "metadata": {},
   "outputs": [
    {
     "data": {
      "text/plain": [
       "array([2, 1, 0, 2, 0, 2, 0, 1, 1, 1, 2, 1, 1, 1, 1, 0, 1, 1, 0, 0, 2, 1,\n",
       "       0, 0, 2, 0, 0, 1, 1, 0], dtype=int64)"
      ]
     },
     "execution_count": 11,
     "metadata": {},
     "output_type": "execute_result"
    }
   ],
   "source": [
    "y_test"
   ]
  },
  {
   "cell_type": "code",
   "execution_count": 12,
   "metadata": {},
   "outputs": [
    {
     "data": {
      "text/html": [
       "<style>#sk-container-id-1 {color: black;background-color: white;}#sk-container-id-1 pre{padding: 0;}#sk-container-id-1 div.sk-toggleable {background-color: white;}#sk-container-id-1 label.sk-toggleable__label {cursor: pointer;display: block;width: 100%;margin-bottom: 0;padding: 0.3em;box-sizing: border-box;text-align: center;}#sk-container-id-1 label.sk-toggleable__label-arrow:before {content: \"▸\";float: left;margin-right: 0.25em;color: #696969;}#sk-container-id-1 label.sk-toggleable__label-arrow:hover:before {color: black;}#sk-container-id-1 div.sk-estimator:hover label.sk-toggleable__label-arrow:before {color: black;}#sk-container-id-1 div.sk-toggleable__content {max-height: 0;max-width: 0;overflow: hidden;text-align: left;background-color: #f0f8ff;}#sk-container-id-1 div.sk-toggleable__content pre {margin: 0.2em;color: black;border-radius: 0.25em;background-color: #f0f8ff;}#sk-container-id-1 input.sk-toggleable__control:checked~div.sk-toggleable__content {max-height: 200px;max-width: 100%;overflow: auto;}#sk-container-id-1 input.sk-toggleable__control:checked~label.sk-toggleable__label-arrow:before {content: \"▾\";}#sk-container-id-1 div.sk-estimator input.sk-toggleable__control:checked~label.sk-toggleable__label {background-color: #d4ebff;}#sk-container-id-1 div.sk-label input.sk-toggleable__control:checked~label.sk-toggleable__label {background-color: #d4ebff;}#sk-container-id-1 input.sk-hidden--visually {border: 0;clip: rect(1px 1px 1px 1px);clip: rect(1px, 1px, 1px, 1px);height: 1px;margin: -1px;overflow: hidden;padding: 0;position: absolute;width: 1px;}#sk-container-id-1 div.sk-estimator {font-family: monospace;background-color: #f0f8ff;border: 1px dotted black;border-radius: 0.25em;box-sizing: border-box;margin-bottom: 0.5em;}#sk-container-id-1 div.sk-estimator:hover {background-color: #d4ebff;}#sk-container-id-1 div.sk-parallel-item::after {content: \"\";width: 100%;border-bottom: 1px solid gray;flex-grow: 1;}#sk-container-id-1 div.sk-label:hover label.sk-toggleable__label {background-color: #d4ebff;}#sk-container-id-1 div.sk-serial::before {content: \"\";position: absolute;border-left: 1px solid gray;box-sizing: border-box;top: 0;bottom: 0;left: 50%;z-index: 0;}#sk-container-id-1 div.sk-serial {display: flex;flex-direction: column;align-items: center;background-color: white;padding-right: 0.2em;padding-left: 0.2em;position: relative;}#sk-container-id-1 div.sk-item {position: relative;z-index: 1;}#sk-container-id-1 div.sk-parallel {display: flex;align-items: stretch;justify-content: center;background-color: white;position: relative;}#sk-container-id-1 div.sk-item::before, #sk-container-id-1 div.sk-parallel-item::before {content: \"\";position: absolute;border-left: 1px solid gray;box-sizing: border-box;top: 0;bottom: 0;left: 50%;z-index: -1;}#sk-container-id-1 div.sk-parallel-item {display: flex;flex-direction: column;z-index: 1;position: relative;background-color: white;}#sk-container-id-1 div.sk-parallel-item:first-child::after {align-self: flex-end;width: 50%;}#sk-container-id-1 div.sk-parallel-item:last-child::after {align-self: flex-start;width: 50%;}#sk-container-id-1 div.sk-parallel-item:only-child::after {width: 0;}#sk-container-id-1 div.sk-dashed-wrapped {border: 1px dashed gray;margin: 0 0.4em 0.5em 0.4em;box-sizing: border-box;padding-bottom: 0.4em;background-color: white;}#sk-container-id-1 div.sk-label label {font-family: monospace;font-weight: bold;display: inline-block;line-height: 1.2em;}#sk-container-id-1 div.sk-label-container {text-align: center;}#sk-container-id-1 div.sk-container {/* jupyter's `normalize.less` sets `[hidden] { display: none; }` but bootstrap.min.css set `[hidden] { display: none !important; }` so we also need the `!important` here to be able to override the default hidden behavior on the sphinx rendered scikit-learn.org. See: https://github.com/scikit-learn/scikit-learn/issues/21755 */display: inline-block !important;position: relative;}#sk-container-id-1 div.sk-text-repr-fallback {display: none;}</style><div id=\"sk-container-id-1\" class=\"sk-top-container\"><div class=\"sk-text-repr-fallback\"><pre>GaussianNB()</pre><b>In a Jupyter environment, please rerun this cell to show the HTML representation or trust the notebook. <br />On GitHub, the HTML representation is unable to render, please try loading this page with nbviewer.org.</b></div><div class=\"sk-container\" hidden><div class=\"sk-item\"><div class=\"sk-estimator sk-toggleable\"><input class=\"sk-toggleable__control sk-hidden--visually\" id=\"sk-estimator-id-1\" type=\"checkbox\" checked><label for=\"sk-estimator-id-1\" class=\"sk-toggleable__label sk-toggleable__label-arrow\">GaussianNB</label><div class=\"sk-toggleable__content\"><pre>GaussianNB()</pre></div></div></div></div></div>"
      ],
      "text/plain": [
       "GaussianNB()"
      ]
     },
     "execution_count": 12,
     "metadata": {},
     "output_type": "execute_result"
    }
   ],
   "source": [
    "from sklearn.naive_bayes import GaussianNB\n",
    "nb =GaussianNB()\n",
    "nb.fit(X_train, y_train)"
   ]
  },
  {
   "cell_type": "code",
   "execution_count": 13,
   "metadata": {},
   "outputs": [],
   "source": [
    "y_pred = nb.predict(X_test)"
   ]
  },
  {
   "cell_type": "code",
   "execution_count": 14,
   "metadata": {},
   "outputs": [
    {
     "data": {
      "text/plain": [
       "array([2, 1, 0, 2, 0, 2, 0, 1, 1, 1, 1, 1, 1, 1, 1, 0, 1, 1, 0, 0, 2, 1,\n",
       "       0, 0, 2, 0, 0, 1, 1, 0], dtype=int64)"
      ]
     },
     "execution_count": 14,
     "metadata": {},
     "output_type": "execute_result"
    }
   ],
   "source": [
    "y_pred\n"
   ]
  },
  {
   "cell_type": "code",
   "execution_count": 15,
   "metadata": {},
   "outputs": [
    {
     "data": {
      "text/plain": [
       "array([2, 1, 0, 2, 0, 2, 0, 1, 1, 1, 2, 1, 1, 1, 1, 0, 1, 1, 0, 0, 2, 1,\n",
       "       0, 0, 2, 0, 0, 1, 1, 0], dtype=int64)"
      ]
     },
     "execution_count": 15,
     "metadata": {},
     "output_type": "execute_result"
    }
   ],
   "source": [
    "y_test"
   ]
  },
  {
   "cell_type": "code",
   "execution_count": 16,
   "metadata": {},
   "outputs": [
    {
     "data": {
      "text/plain": [
       "0.9666666666666667"
      ]
     },
     "execution_count": 16,
     "metadata": {},
     "output_type": "execute_result"
    }
   ],
   "source": [
    "from sklearn.metrics import accuracy_score\n",
    "acc = accuracy_score(y_test , y_pred)\n",
    "acc"
   ]
  },
  {
   "cell_type": "code",
   "execution_count": 17,
   "metadata": {},
   "outputs": [
    {
     "data": {
      "text/plain": [
       "array([2, 1, 0, 2, 0, 2, 0, 1, 1, 1, 1, 1, 1, 1, 1, 0, 1, 1, 0, 0, 2, 1,\n",
       "       0, 0, 2, 0, 0, 1, 1, 0], dtype=int64)"
      ]
     },
     "execution_count": 17,
     "metadata": {},
     "output_type": "execute_result"
    }
   ],
   "source": [
    "y_pred"
   ]
  }
 ],
 "metadata": {
  "kernelspec": {
   "display_name": "Python 3.10.2 64-bit",
   "language": "python",
   "name": "python3"
  },
  "language_info": {
   "codemirror_mode": {
    "name": "ipython",
    "version": 3
   },
   "file_extension": ".py",
   "mimetype": "text/x-python",
   "name": "python",
   "nbconvert_exporter": "python",
   "pygments_lexer": "ipython3",
   "version": "3.10.2"
  },
  "orig_nbformat": 4,
  "vscode": {
   "interpreter": {
    "hash": "369f2c481f4da34e4445cda3fffd2e751bd1c4d706f27375911949ba6bb62e1c"
   }
  }
 },
 "nbformat": 4,
 "nbformat_minor": 2
}
